{
 "cells": [
  {
   "cell_type": "code",
   "execution_count": 96,
   "metadata": {},
   "outputs": [],
   "source": [
    "import numpy as np\n",
    "import pandas as pd\n",
    "import zipfile\n",
    "import dicom2nifti\n",
    "import os\n",
    "\n",
    "path_to_nifti = r\"C:\\Users\\vmart\\Documents\\TM_jaar_3\\Afstuderen\\Thesis\\NIFTI\\\\\"\n",
    "path_to_store_dicom = r\"C:\\Users\\vmart\\Documents\\TM_jaar_3\\Afstuderen\\Thesis\\DICOM\\zipped\"\n",
    "path_to_dicom_unzip = r\"C:\\Users\\vmart\\Documents\\TM_jaar_3\\Afstuderen\\Thesis\\DICOM\\unzipped\"\n"
   ]
  },
  {
   "cell_type": "code",
   "execution_count": 97,
   "metadata": {},
   "outputs": [
    {
     "name": "stdout",
     "output_type": "stream",
     "text": [
      "['A_0003491950.zip', 'A_0003556920.zip', 'A_0003569872.zip', 'A_0003576762.zip', 'A_0003579886.zip']\n",
      "['A_0003491950', 'A_0003556920', 'A_0003569872', 'A_0003576762', 'A_0003579886']\n"
     ]
    }
   ],
   "source": [
    "folder_path = path_to_store_dicom\n",
    "pt_id = []\n",
    "for filename in os.listdir(folder_path):\n",
    "    # Check if the entry is a file\n",
    "    if os.path.isfile(os.path.join(folder_path, filename)):\n",
    "        # Append the filename (label) to the list\n",
    "        pt_id.append(filename)\n",
    "print(pt_id)\n",
    "\n",
    "pt_id = [filename[:-4] for filename in pt_id]\n",
    "print(pt_id)"
   ]
  },
  {
   "cell_type": "code",
   "execution_count": 151,
   "metadata": {},
   "outputs": [
    {
     "name": "stdout",
     "output_type": "stream",
     "text": [
      "C:\\Users\\vmart\\Documents\\TM_jaar_3\\Afstuderen\\Thesis\\DICOM\\zipped\\A_0003579886.zip\n"
     ]
    }
   ],
   "source": [
    "num = 4\n",
    "path_to_dicom = path_to_store_dicom +'\\\\' + pt_id[num] +'.zip'\n",
    "print(path_to_dicom)\n",
    "\n",
    "# if not os.path.exists(path_to_dicom):\n",
    "#     os.makedirs(path_to_dicom)\n",
    "#     print(f\"Created directory: {path_to_dicom}\")\n",
    "# else:\n",
    "#     print(f\"Directory already exists: {path_to_dicom}\")\n",
    "# with zipfile.ZipFile(path_to_dicom, 'r') as zip_ref:\n",
    "#     zip_ref.extractall(path_to_dicom_unzip)\n",
    "# print('Unzip is done')\n"
   ]
  },
  {
   "cell_type": "code",
   "execution_count": 152,
   "metadata": {},
   "outputs": [
    {
     "name": "stdout",
     "output_type": "stream",
     "text": [
      "C:\\Users\\vmart\\Documents\\TM_jaar_3\\Afstuderen\\Thesis\\DICOM\\unzipped\\A_0003579886\n"
     ]
    },
    {
     "data": {
      "text/plain": [
       "{'NII_FILE': 'C:\\\\Users\\\\vmart\\\\Documents\\\\TM_jaar_3\\\\Afstuderen\\\\Thesis\\\\NIFTI\\\\\\\\A_0003579886.nii',\n",
       " 'NII': <nibabel.nifti1.Nifti1Image at 0x15f4a0ecd60>,\n",
       " 'MAX_SLICE_INCREMENT': 0.6000000000000001}"
      ]
     },
     "execution_count": 152,
     "metadata": {},
     "output_type": "execute_result"
    }
   ],
   "source": [
    "path_to_dicom_unzip = r\"C:\\Users\\vmart\\Documents\\TM_jaar_3\\Afstuderen\\Thesis\\DICOM\\unzipped\" + '\\\\' + pt_id[num]\n",
    "print(path_to_dicom_unzip)\n",
    "\n",
    "\n",
    "dicom2nifti.dicom_series_to_nifti(path_to_dicom_unzip, path_to_nifti + pt_id[num] + '.nii.gz') \n"
   ]
  }
 ],
 "metadata": {
  "kernelspec": {
   "display_name": "base",
   "language": "python",
   "name": "python3"
  },
  "language_info": {
   "codemirror_mode": {
    "name": "ipython",
    "version": 3
   },
   "file_extension": ".py",
   "mimetype": "text/x-python",
   "name": "python",
   "nbconvert_exporter": "python",
   "pygments_lexer": "ipython3",
   "version": "3.9.5"
  }
 },
 "nbformat": 4,
 "nbformat_minor": 2
}
